{
 "cells": [
  {
   "cell_type": "markdown",
   "metadata": {},
   "source": [
    "___\n",
    "# Atividade: Teoria da Probabilidade\n",
    "___\n",
    "\n",
    "## Aula 08\n",
    "\n",
    "**Referência de Leitura:**\n",
    "1. Magalhães e Lima (7ª. Edição): pág. 49 a 68 - Probabilidades\n",
    "\n",
    "**Hoje:**\n",
    "1. Conceito de Probabilidade\n",
    "4. Probabilidade Condicional\n",
    "3. Independência de eventos\n",
    "5. Teorema de Bayes. Simulação do problema de Monty Hall\n",
    "\n",
    "**Próxima aula:**\n",
    "1. Magalhães e Lima (7ª. Edição): pág. 69 a 104 - Variáveis aleatórias discretas\n",
    "___"
   ]
  },
  {
   "cell_type": "code",
   "execution_count": 22,
   "metadata": {
    "collapsed": true
   },
   "outputs": [],
   "source": [
    "%matplotlib inline\n",
    "import pandas as pd\n",
    "import matplotlib.pyplot as plt\n",
    "\n",
    "#Bibliotecas necessárias\n",
    "import numpy as np\n",
    "import random as rd\n"
   ]
  },
  {
   "cell_type": "markdown",
   "metadata": {},
   "source": [
    "## <font color='blue'>Exercício 1</font>\n",
    "\n",
    "Monte a simulação de 1000 jogadas de um dado idôneo de 6 faces. Faça o histograma (normalizado) da frequência.\n",
    "\n",
    "    a) Olhando o histograma, o que pode se dizer sobre as probabilidade de cada face?\n",
    "    \n",
    "    b) Discorra sobre o porque da probabilidade não ser exatamente igual à teórica."
   ]
  },
  {
   "cell_type": "code",
   "execution_count": 71,
   "metadata": {
    "collapsed": false
   },
   "outputs": [
    {
     "data": {
      "image/png": "[encoded data removed]",
      "text/plain": [
       "<matplotlib.figure.Figure at 0x1b1c639a278>"
      ]
     },
     "metadata": {},
     "output_type": "display_data"
    },
    {
     "data": {
      "text/html": [
       "<div>\n",
       "<table border=\"1\" class=\"dataframe\">\n",
       "  <thead>\n",
       "    <tr style=\"text-align: right;\">\n",
       "      <th></th>\n",
       "      <th>Quantidade obtida</th>\n",
       "    </tr>\n",
       "  </thead>\n",
       "  <tbody>\n",
       "    <tr>\n",
       "      <th>Face 1</th>\n",
       "      <td>171</td>\n",
       "    </tr>\n",
       "  </tbody>\n",
       "</table>\n",
       "</div>"
      ],
      "text/plain": [
       "        Quantidade obtida\n",
       "Face 1                171"
      ]
     },
     "execution_count": 71,
     "metadata": {},
     "output_type": "execute_result"
    }
   ],
   "source": [
    "#Item -a-\n",
    "\n",
    "dice= pd.DataFrame(index=['Quantidade obtida'],\n",
    "    columns=['Face 1', 'Face 2', 'Face 3', 'Face 4', 'Face 5','Face 6'])\n",
    "dice= dice.fillna(0)\n",
    "\n",
    "\n",
    "i=0\n",
    "while(i != 1000):\n",
    "    \n",
    "    val= rd.randint(1, 6)\n",
    "    val=\"Face \"+str(val)\n",
    "    dice[val]+=1\n",
    "    i+= 1\n",
    "    \n",
    "temp=dice\n",
    "temp= temp.head(1)\n",
    "    \n",
    "temp.plot.hist()\n",
    "plt.show()\n",
    "\n",
    "#dice\n",
    "temp"
   ]
  },
  {
   "cell_type": "markdown",
   "metadata": {},
   "source": [
    "#Item -b-\n",
    "\n",
    "A probabilidade de se obter um certo resultado não significa que a incidência desse resultado será idêntica à da probabilidade. O que ela indica é uma tendência do resultado de se aproximar à essa porcentagem de resultados "
   ]
  },
  {
   "cell_type": "markdown",
   "metadata": {},
   "source": [
    "___\n",
    "## <font color='blue'>Exercício 2</font>\n",
    "\n",
    "Ampliando o espaço amostral para as possíveis jogadas de 2 dados, analise as seguintes situações:\n",
    "    \n",
    "    a) Jogando os dois dados ao mesmo tempo. Qual é a probabilidade de obter soma 7?\n",
    "    \n",
    "    b) Jogando um dado e depois o segundo dado. Qual é a probabilidade de obter soma 7 já sabendo o resultado do primeiro? Compare o resultado com item anterior! Por que é igual ou diferente?"
   ]
  },
  {
   "cell_type": "code",
   "execution_count": 47,
   "metadata": {
    "collapsed": false
   },
   "outputs": [
    {
     "data": {
      "image/png": "[encoded data removed]",
      "text/plain": [
       "<matplotlib.figure.Figure at 0x1b1c6263748>"
      ]
     },
     "metadata": {},
     "output_type": "display_data"
    },
    {
     "data": {
      "text/html": [
       "<div>\n",
       "<table border=\"1\" class=\"dataframe\">\n",
       "  <thead>\n",
       "    <tr style=\"text-align: right;\">\n",
       "      <th></th>\n",
       "      <th>Resultado 2</th>\n",
       "      <th>Resultado 3</th>\n",
       "      <th>Resultado 4</th>\n",
       "      <th>Resultado 5</th>\n",
       "      <th>Resultado 6</th>\n",
       "      <th>Resultado 7</th>\n",
       "      <th>Resultado 8</th>\n",
       "      <th>Resultado 9</th>\n",
       "      <th>Resultado 10</th>\n",
       "      <th>Resultado 11</th>\n",
       "      <th>Resultado 12</th>\n",
       "    </tr>\n",
       "  </thead>\n",
       "  <tbody>\n",
       "    <tr>\n",
       "      <th>Quantidade obtida</th>\n",
       "      <td>274</td>\n",
       "      <td>576</td>\n",
       "      <td>815</td>\n",
       "      <td>1128</td>\n",
       "      <td>1376</td>\n",
       "      <td>1653</td>\n",
       "      <td>1407</td>\n",
       "      <td>1118</td>\n",
       "      <td>853</td>\n",
       "      <td>518</td>\n",
       "      <td>282</td>\n",
       "    </tr>\n",
       "  </tbody>\n",
       "</table>\n",
       "</div>"
      ],
      "text/plain": [
       "                   Resultado 2  Resultado 3  Resultado 4  Resultado 5  \\\n",
       "Quantidade obtida          274          576          815         1128   \n",
       "\n",
       "                   Resultado 6  Resultado 7  Resultado 8  Resultado 9  \\\n",
       "Quantidade obtida         1376         1653         1407         1118   \n",
       "\n",
       "                   Resultado 10  Resultado 11  Resultado 12  \n",
       "Quantidade obtida           853           518           282  "
      ]
     },
     "execution_count": 47,
     "metadata": {},
     "output_type": "execute_result"
    }
   ],
   "source": [
    "#Item -a-\n",
    "\n",
    "dice= pd.DataFrame(index=['Quantidade obtida'],\n",
    "    columns=['Resultado 2', 'Resultado 3', 'Resultado 4', 'Resultado 5', 'Resultado 6', 'Resultado 7', 'Resultado 8', 'Resultado 9', 'Resultado 10', 'Resultado 11', 'Resultado 12'])\n",
    "\n",
    "dice= dice.fillna(0)\n",
    "\n",
    "\n",
    "i=0\n",
    "while(i != 10000):\n",
    "    \n",
    "    val= rd.randint(1, 6)\n",
    "    val+= rd.randint(1, 6)\n",
    "    val=\"Resultado \"+str(val)\n",
    "    dice[val]+=1\n",
    "    i+= 1\n",
    "    \n",
    "dice.plot.bar(legend=False)\n",
    "plt.show()\n",
    "dice"
   ]
  },
  {
   "cell_type": "markdown",
   "metadata": {},
   "source": [
    "___\n",
    "## <font color='blue'>Exercício 3</font>\n",
    "\n",
    "Simule 10000 vezes o problema de Monty Hall¹ , usar o seguinte algoritmo:\n",
    "\n",
    "\n",
    "* Repetir 10000 vezes:\n",
    "    * Sorteie um número de porta de 1 a 3 para ser a premiada\n",
    "    * Sorteie um número de porta de 1 a 3 para ser a porta escolhida.\n",
    "    * Sorteie um número de porta para ser a aberta, desde que não seja a premiada e nem a porta escolhida. Assim, se:\n",
    "        * porta premiada é 1 e a escolhida é 1, sorteie entre as portas 2 e 3 para ser aberta\n",
    "        * porta premiada é 1 e a escolhida é 2, com probabilidade 1 deve abrir a porta 3\n",
    "        * porta premiada é 1 e a escolhida é 3, com probabilidade 1 deve abrir a porta 2\n",
    "        * assim para demais casos...\n",
    "    \n",
    "    * Calcule quantas vezes indivíduo ganha ao trocar de porta. Ou seja, se:\n",
    "        * porta premiada é 1, a escolhida é 1 e aberta é 2 (ou 3), indivíduo perde se trocar de porta\n",
    "        * porta premiada é 1, a escolhida é 2 e aberta é 3, indivíduo ganha se trocar de porta\n",
    "        * porta premiada é 1, a escolhida é 3 e aberta é 2, indivíduo ganha se trocar de porta\n",
    "        * assim para demais casos...\n",
    "        \n",
    "    * Exibir quantas vezes em 10000, o indivíduo ganhou ao trocar de porta.\n",
    "\n",
    "Compare o resultado numérico com o resultado analítico obtido via Teorema de Bayes.\n",
    "\n",
    "¹https://en.wikipedia.org/wiki/Monty_Hall_problem e \n",
    "Exercício 1.4.5 de http://www.portalaction.com.br/probabilidades/14-eventos-independentes-e-probabilidade-condicional"
   ]
  },
  {
   "cell_type": "code",
   "execution_count": 53,
   "metadata": {
    "collapsed": false
   },
   "outputs": [
    {
     "name": "stdout",
     "output_type": "stream",
     "text": [
      "Total de vitórias: 6650\n",
      "Porcentual de vitórias:66.5\n"
     ]
    }
   ],
   "source": [
    "dice= pd.DataFrame(index=['Quantidade obtida'],\n",
    "    columns=['Face 1', 'Face 2', 'Face 3', 'Face 4', 'Face 5','Face 6'])\n",
    "\n",
    "i=0\n",
    "victory= 0\n",
    "while(i!=10000):\n",
    "\n",
    "    prized_door= rd.randint(1, 3)\n",
    "    chosen_door= rd.randint(1, 3)\n",
    "    \n",
    "    closed_doors= [1, 2, 3]\n",
    "    closed_doors.remove(prized_door)\n",
    "    if chosen_door != prized_door:\n",
    "        closed_doors.remove(chosen_door)\n",
    "    opened_door= rd.choice(closed_doors)\n",
    "    \n",
    "    chosen_door= 6-(chosen_door+opened_door)\n",
    "    \n",
    "    if chosen_door == prized_door:\n",
    "        victory+= 1\n",
    "        \n",
    "    i+= 1\n",
    "    \n",
    "\n",
    "print( \"Total de vitórias: \"+str(victory))\n",
    "print( \"Porcentual de vitórias:\"+str(victory/100))"
   ]
  }
 ],
 "metadata": {
  "anaconda-cloud": {},
  "kernelspec": {
   "display_name": "Python 3",
   "language": "python",
   "name": "python3"
  },
  "language_info": {
   "codemirror_mode": {
    "name": "ipython",
    "version": 3
   },
   "file_extension": ".py",
   "mimetype": "text/x-python",
   "name": "python",
   "nbconvert_exporter": "python",
   "pygments_lexer": "ipython3",
   "version": "3.5.2"
  }
 },
 "nbformat": 4,
 "nbformat_minor": 0
}
